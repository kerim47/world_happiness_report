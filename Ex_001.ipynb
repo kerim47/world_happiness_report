{
 "cells": [
  {
   "cell_type": "code",
   "execution_count": 7,
   "id": "bddf5266",
   "metadata": {},
   "outputs": [
    {
     "data": {
      "text/plain": [
       "[0, 6, 20, 42]"
      ]
     },
     "execution_count": 7,
     "metadata": {},
     "output_type": "execute_result"
    }
   ],
   "source": [
    "# iki dizinin carpimi sonucu yeni bir dizi olusturulmasi\n",
    "import numpy as np\n",
    "a=[1, 3, 5, 7]\n",
    "b=[0, 2, 4, 6]\n",
    "ab=[ ]\n",
    "for i in range(0, len(a)):\n",
    "    ab.append(a[i]*b[i])\n",
    "ab"
   ]
  },
  {
   "cell_type": "code",
   "execution_count": 8,
   "id": "0a8db282",
   "metadata": {},
   "outputs": [
    {
     "data": {
      "text/plain": [
       "array([ 0,  6, 20, 42, 72])"
      ]
     },
     "execution_count": 8,
     "metadata": {},
     "output_type": "execute_result"
    }
   ],
   "source": [
    "# iki dizinin carpimi\n",
    "a = np.array([1, 3, 5, 7,  9])\n",
    "b = np.array([0, 2, 4, 6, 8])\n",
    "a * b"
   ]
  },
  {
   "cell_type": "code",
   "execution_count": 11,
   "id": "4ba7a0db",
   "metadata": {},
   "outputs": [
    {
     "data": {
      "text/plain": [
       "numpy.ndarray"
      ]
     },
     "execution_count": 11,
     "metadata": {},
     "output_type": "execute_result"
    }
   ],
   "source": [
    "# Degiskenin tipinin ogrenilmesi\n",
    "result = np.array([1,2,3,4,5], dtype=float)\n",
    "type(result)"
   ]
  },
  {
   "cell_type": "code",
   "execution_count": 43,
   "id": "dfdd3c39",
   "metadata": {},
   "outputs": [],
   "source": [
    "# bir kutuphane veya fonksiyonun hakkında bilgi edinilmesi\n",
    "?np.array\n",
    "#?np.mean"
   ]
  },
  {
   "cell_type": "code",
   "execution_count": 55,
   "id": "f5a09631",
   "metadata": {},
   "outputs": [
    {
     "data": {
      "text/plain": [
       "array([1., 2., 3., 4., 5.])"
      ]
     },
     "execution_count": 55,
     "metadata": {},
     "output_type": "execute_result"
    }
   ],
   "source": [
    "liste = [1, 2, 3, 4, 5]\n",
    "numpy_dizi_copy = np.array(liste, dtype=float, copy=True, order='C', subok=True) # np.array dizisi olusturma\n",
    "numpy_dizi_copy"
   ]
  },
  {
   "cell_type": "code",
   "execution_count": 57,
   "id": "324fd9e2",
   "metadata": {},
   "outputs": [
    {
     "data": {
      "text/plain": [
       "array([1.     , 1.03125, 1.0625 , 1.09375, 1.125  , 1.15625, 1.1875 ,\n",
       "       1.21875, 1.25   , 1.28125, 1.3125 , 1.34375, 1.375  , 1.40625,\n",
       "       1.4375 , 1.46875, 1.5    , 1.53125, 1.5625 , 1.59375, 1.625  ,\n",
       "       1.65625, 1.6875 , 1.71875, 1.75   , 1.78125, 1.8125 , 1.84375,\n",
       "       1.875  , 1.90625, 1.9375 , 1.96875, 2.     ])"
      ]
     },
     "execution_count": 57,
     "metadata": {},
     "output_type": "execute_result"
    }
   ],
   "source": [
    "# ister dtype parametresi kullan ister kullanma bir farklılık gostermemektedir.\n",
    "np.zeros(10, float)      # 10 boyutunda degerleri bos olan bir dize dondurur.\n",
    "np.zeros((3, 5), int)    # 3x5 boyutunda degerleri bos olan bir dize dondurur.\n",
    "np.ones((3, 5))          # 3x5 boyutunda float birim matris elde eder.\n",
    "np.full((3, 5), 5, int)  # 3x5 boyutunda istenilen deger ve boyutta int matris tanimlandi\n",
    "np.arange(0, 33, 3)      # 0 dan 33 degerine kadar 3 artacak sekilde bir dize dondurur\n",
    "np.linspace(0, 1, 10)    # 0 ve 1 degerleri arasinda 10 adet degeri paylasimli olacak sekilde bir dize olarak dondurur.\n",
    "np.linspace(1, 2, 33, endpoint=False) # endpoint son sayinin dahil edilip edilmeyecegi belirtir."
   ]
  },
  {
   "cell_type": "code",
   "execution_count": 82,
   "id": "a3dc3248",
   "metadata": {},
   "outputs": [],
   "source": [
    "import numpy as np\n",
    "import matplotlib.pyplot as plt\n",
    "\n",
    "means = []\n",
    "stds = []\n",
    "\n",
    "for i in range(1, 101):\n",
    "    dizi = np.random.normal(10, 5, (i, i))\n",
    "    mean = np.mean(dizi)\n",
    "    std = np.std(dizi)\n"
   ]
  },
  {
   "cell_type": "code",
   "execution_count": 65,
   "id": "970bc8fb-50e6-4c21-a2b4-4cb30e91f31d",
   "metadata": {},
   "outputs": [
    {
     "data": {
      "text/plain": [
       "array([[6, 0, 3],\n",
       "       [4, 7, 0],\n",
       "       [2, 3, 2],\n",
       "       [0, 5, 3],\n",
       "       [6, 7, 4]])"
      ]
     },
     "execution_count": 65,
     "metadata": {},
     "output_type": "execute_result"
    }
   ],
   "source": [
    "np.random.randint(0, 8, (5,3))"
   ]
  },
  {
   "cell_type": "code",
   "execution_count": 84,
   "id": "1f7b639a-9aae-47a7-b178-07e60a4bd55f",
   "metadata": {},
   "outputs": [],
   "source": [
    "np.random.randint(10, size=5) # 0 10 arasında rastgele 5 tane deger uretir.\n",
    "random_degerler = np.random.randint(0, 10, (3, 5)) # 0 10 arasında rastgele 5 tane deger uretir."
   ]
  },
  {
   "cell_type": "code",
   "execution_count": 85,
   "id": "8721e7c5-506d-4443-b96c-ee3d062d2928",
   "metadata": {},
   "outputs": [
    {
     "data": {
      "text/plain": [
       "2"
      ]
     },
     "execution_count": 85,
     "metadata": {},
     "output_type": "execute_result"
    }
   ],
   "source": [
    "random_degerler.ndim # ndim dizinin boyutunu verir."
   ]
  },
  {
   "cell_type": "code",
   "execution_count": 87,
   "id": "fa6e6f52-58a7-407f-af31-293ae508b2f5",
   "metadata": {},
   "outputs": [
    {
     "name": "stdout",
     "output_type": "stream",
     "text": [
      "3\n",
      "5\n"
     ]
    }
   ],
   "source": [
    "random_degerler.shape # shape satir ve sutun degerlerini yazdirir.\n",
    "# Ayni sekilde farkli bir sekilde ekrana yazdirilmak istenirse. aşağıdaki kod kullanılabilir.\n",
    "print(random_degerler.shape[0])\n",
    "print(random_degerler.shape[1])"
   ]
  },
  {
   "cell_type": "code",
   "execution_count": 25,
   "id": "263ec796-43bb-4116-8cf6-691cb4391262",
   "metadata": {},
   "outputs": [
    {
     "data": {
      "text/plain": [
       "15"
      ]
     },
     "execution_count": 25,
     "metadata": {},
     "output_type": "execute_result"
    }
   ],
   "source": [
    "random_degerler.size # Size toplam dizi boyutunu belirler"
   ]
  },
  {
   "cell_type": "code",
   "execution_count": 26,
   "id": "6fc460a9-5068-421d-a47c-43fb5b326403",
   "metadata": {},
   "outputs": [
    {
     "data": {
      "text/plain": [
       "dtype('int32')"
      ]
     },
     "execution_count": 26,
     "metadata": {},
     "output_type": "execute_result"
    }
   ],
   "source": [
    "random_degerler.dtype"
   ]
  },
  {
   "cell_type": "code",
   "execution_count": 29,
   "id": "ab4a7d0b-8a24-4691-9bbd-f70bc5b68112",
   "metadata": {},
   "outputs": [
    {
     "data": {
      "text/plain": [
       "array([[6, 5, 9, 8],\n",
       "       [6, 9, 8, 4]])"
      ]
     },
     "execution_count": 29,
     "metadata": {},
     "output_type": "execute_result"
    }
   ],
   "source": [
    "b=np.random.randint(4,10, size=(2,4))\n",
    "b"
   ]
  },
  {
   "cell_type": "code",
   "execution_count": 30,
   "id": "1f9fc0aa-5eb2-4fdf-b721-bfe71b87f8b0",
   "metadata": {},
   "outputs": [
    {
     "data": {
      "text/plain": [
       "array([ 1.95716221,  8.04694538, 11.13123536, -6.42068043, 14.29597736,\n",
       "       25.90165245, 16.7269951 ,  5.23932635, 10.24646912, 19.13704609,\n",
       "        1.62788528,  2.87379819,  7.3626363 , 20.07480763,  8.96336698])"
      ]
     },
     "execution_count": 30,
     "metadata": {},
     "output_type": "execute_result"
    }
   ],
   "source": [
    "c = np.random.normal(9, 8, 15)\n",
    "c"
   ]
  },
  {
   "cell_type": "code",
   "execution_count": 31,
   "id": "5f51aa84-0acf-4aaa-a2ce-bea4391da068",
   "metadata": {},
   "outputs": [
    {
     "data": {
      "text/plain": [
       "array([[ 1.95716221,  8.04694538, 11.13123536, -6.42068043, 14.29597736],\n",
       "       [25.90165245, 16.7269951 ,  5.23932635, 10.24646912, 19.13704609],\n",
       "       [ 1.62788528,  2.87379819,  7.3626363 , 20.07480763,  8.96336698]])"
      ]
     },
     "execution_count": 31,
     "metadata": {},
     "output_type": "execute_result"
    }
   ],
   "source": [
    "c.reshape((3, 5))"
   ]
  },
  {
   "cell_type": "code",
   "execution_count": 33,
   "id": "eab4c0c9-af5f-49e7-93f1-b47a18cd37e7",
   "metadata": {},
   "outputs": [],
   "source": [
    "x = np.array([1,2,3])\n",
    "y = np.array([4,5,6])"
   ]
  },
  {
   "cell_type": "code",
   "execution_count": 37,
   "id": "ea561fc4-95a1-4073-9e82-ac947c5e8ecc",
   "metadata": {},
   "outputs": [
    {
     "data": {
      "text/plain": [
       "array([1, 2, 3, 4, 5, 6, 1, 2, 3, 4, 5, 6])"
      ]
     },
     "execution_count": 37,
     "metadata": {},
     "output_type": "execute_result"
    }
   ],
   "source": [
    "a,b=x,y\n",
    "ab=np.concatenate([a, b])\n",
    "np.concatenate([a, b, ab])"
   ]
  },
  {
   "cell_type": "code",
   "execution_count": 39,
   "id": "d02a41c0-97b5-4706-9d1a-b3f086cb5aa6",
   "metadata": {},
   "outputs": [
    {
     "data": {
      "text/plain": [
       "array([77, 20, 88, 26, 86, 44, 47, 36,  7, 12, 92,  7,  1, 57, 23])"
      ]
     },
     "execution_count": 39,
     "metadata": {},
     "output_type": "execute_result"
    }
   ],
   "source": [
    "abc=np.random.randint(1, 100, 15)\n",
    "abc"
   ]
  },
  {
   "cell_type": "code",
   "execution_count": 41,
   "id": "f92c8a85-4776-4a69-8b3f-298ff054ddbe",
   "metadata": {},
   "outputs": [
    {
     "data": {
      "text/plain": [
       "array([ 1,  7,  7, 12, 20, 23, 26, 36, 44, 47, 57, 77, 86, 88, 92])"
      ]
     },
     "execution_count": 41,
     "metadata": {},
     "output_type": "execute_result"
    }
   ],
   "source": [
    "abc.sort()\n",
    "abc"
   ]
  },
  {
   "cell_type": "code",
   "execution_count": 44,
   "id": "d10a9526-fbfe-43ca-a7f6-b1cbbdd374a2",
   "metadata": {},
   "outputs": [
    {
     "data": {
      "text/plain": [
       "array([[1, 5, 6, 8, 2],\n",
       "       [1, 0, 8, 1, 5],\n",
       "       [6, 3, 5, 5, 8]])"
      ]
     },
     "execution_count": 44,
     "metadata": {},
     "output_type": "execute_result"
    }
   ],
   "source": [
    "a=np.random.randint(0, 10, (3, 5))\n",
    "a"
   ]
  },
  {
   "cell_type": "code",
   "execution_count": 67,
   "id": "784ef01a-b953-447a-ab13-aba0b287aba1",
   "metadata": {
    "scrolled": true
   },
   "outputs": [
    {
     "ename": "IndexError",
     "evalue": "too many indices for array: array is 2-dimensional, but 3 were indexed",
     "output_type": "error",
     "traceback": [
      "\u001b[1;31m---------------------------------------------------------------------------\u001b[0m",
      "\u001b[1;31mIndexError\u001b[0m                                Traceback (most recent call last)",
      "\u001b[1;32m~\\AppData\\Local\\Temp\\ipykernel_6272\\1204974660.py\u001b[0m in \u001b[0;36m<module>\u001b[1;34m\u001b[0m\n\u001b[1;32m----> 1\u001b[1;33m \u001b[0ma\u001b[0m\u001b[1;33m[\u001b[0m\u001b[1;36m0\u001b[0m\u001b[1;33m,\u001b[0m\u001b[1;36m0\u001b[0m\u001b[1;33m:\u001b[0m\u001b[1;36m2\u001b[0m\u001b[1;33m,\u001b[0m\u001b[1;36m2\u001b[0m\u001b[1;33m]\u001b[0m\u001b[1;33m\u001b[0m\u001b[1;33m\u001b[0m\u001b[0m\n\u001b[0m",
      "\u001b[1;31mIndexError\u001b[0m: too many indices for array: array is 2-dimensional, but 3 were indexed"
     ]
    }
   ],
   "source": [
    "a[0,0:2,2]"
   ]
  }
 ],
 "metadata": {
  "kernelspec": {
   "display_name": "Python 3 (ipykernel)",
   "language": "python",
   "name": "python3"
  },
  "language_info": {
   "codemirror_mode": {
    "name": "ipython",
    "version": 3
   },
   "file_extension": ".py",
   "mimetype": "text/x-python",
   "name": "python",
   "nbconvert_exporter": "python",
   "pygments_lexer": "ipython3",
   "version": "3.9.7"
  }
 },
 "nbformat": 4,
 "nbformat_minor": 5
}
