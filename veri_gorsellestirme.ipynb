{
 "cells": [
  {
   "cell_type": "markdown",
   "metadata": {
    "jukit_cell_id": "heHi2RHweG"
   },
   "source": [
    "Veri seti hikayesi ve yapisinin incelenmesi"
   ]
  },
  {
   "cell_type": "code",
   "execution_count": 1,
   "metadata": {
    "jukit_cell_id": "fF3i2eab5K"
   },
   "outputs": [
    {
     "name": "stdout",
     "output_type": "stream",
     "text": [
      "\n"
     ]
    },
    {
     "data": {
      "text/plain": [
       "            method  number  orbital_period   mass  distance  year\n",
       "0  Radial Velocity       1         269.300   7.10     77.40  2006\n",
       "1  Radial Velocity       1         874.774   2.21     56.95  2008\n",
       "2  Radial Velocity       1         763.000   2.60     19.84  2011\n",
       "3  Radial Velocity       1         326.030  19.40    110.62  2007\n",
       "4  Radial Velocity       1         516.220  10.50    119.47  2009"
      ]
     },
     "execution_count": 1,
     "metadata": {},
     "output_type": "execute_result"
    }
   ],
   "source": [
    "import seaborn as sns\n",
    "planets = sns.load_dataset(\"planets\")\n",
    "planets.head()"
   ]
  },
  {
   "cell_type": "markdown",
   "metadata": {
    "jukit_cell_id": "a9uRD68heg"
   },
   "source": [
    "Veri setinini hikayesi nedir?"
   ]
  },
  {
   "cell_type": "code",
   "execution_count": 2,
   "metadata": {
    "jukit_cell_id": "evc5XkWhTs"
   },
   "outputs": [
    {
     "name": "stdout",
     "output_type": "stream",
     "text": [
      "\n"
     ]
    },
    {
     "data": {
      "text/plain": [
       "       method  number  orbital_period  mass  distance  year\n",
       "1030  Transit       1        3.941507   NaN     172.0  2006\n",
       "1031  Transit       1        2.615864   NaN     148.0  2007\n",
       "1032  Transit       1        3.191524   NaN     174.0  2007\n",
       "1033  Transit       1        4.125083   NaN     293.0  2008\n",
       "1034  Transit       1        4.187757   NaN     260.0  2008"
      ]
     },
     "execution_count": 2,
     "metadata": {},
     "output_type": "execute_result"
    }
   ],
   "source": [
    "df = planets.copy()\n",
    "df.head()\n",
    "df.tail()"
   ]
  },
  {
   "cell_type": "markdown",
   "metadata": {
    "jukit_cell_id": "YAbPdywwwq"
   },
   "source": [
    "Veri seti yapisal bilgileri"
   ]
  },
  {
   "cell_type": "code",
   "execution_count": 3,
   "metadata": {
    "jukit_cell_id": "uxtWeJFuZr"
   },
   "outputs": [
    {
     "name": "stdout",
     "output_type": "stream",
     "text": [
      "<class 'pandas.core.frame.DataFrame'>\n",
      "RangeIndex: 1035 entries, 0 to 1034\n",
      "Data columns (total 6 columns):\n",
      " #   Column          Non-Null Count  Dtype  \n",
      "---  ------          --------------  -----  \n",
      " 0   method          1035 non-null   object \n",
      " 1   number          1035 non-null   int64  \n",
      " 2   orbital_period  992 non-null    float64\n",
      " 3   mass            513 non-null    float64\n",
      " 4   distance        808 non-null    float64\n",
      " 5   year            1035 non-null   int64  \n",
      "dtypes: float64(3), int64(2), object(1)\n",
      "memory usage: 48.6+ KB\n"
     ]
    },
    {
     "data": {
      "text/plain": [
       "<bound method NDFrame.head of                method  number  ...  distance  year\n",
       "0     Radial Velocity       1  ...     77.40  2006\n",
       "1     Radial Velocity       1  ...     56.95  2008\n",
       "2     Radial Velocity       1  ...     19.84  2011\n",
       "3     Radial Velocity       1  ...    110.62  2007\n",
       "4     Radial Velocity       1  ...    119.47  2009\n",
       "...               ...     ...  ...       ...   ...\n",
       "1030          Transit       1  ...    172.00  2006\n",
       "1031          Transit       1  ...    148.00  2007\n",
       "1032          Transit       1  ...    174.00  2007\n",
       "1033          Transit       1  ...    293.00  2008\n",
       "1034          Transit       1  ...    260.00  2008\n",
       "\n",
       "[1035 rows x 6 columns]>"
      ]
     },
     "execution_count": 3,
     "metadata": {},
     "output_type": "execute_result"
    }
   ],
   "source": [
    "df.info()\n",
    "df.dtypes\n",
    "\n",
    "import pandas as pd\n",
    "df.method = pd.Categorical(df.method)\n",
    "df.dtypes\n",
    "df.head"
   ]
  },
  {
   "cell_type": "markdown",
   "metadata": {
    "jukit_cell_id": "GM1001zdAq"
   },
   "source": [
    " # Veri setinin betimlenmesi"
   ]
  },
  {
   "cell_type": "code",
   "execution_count": 4,
   "metadata": {
    "jukit_cell_id": "AaTM7cQLSH"
   },
   "outputs": [
    {
     "name": "stdout",
     "output_type": "stream",
     "text": [
      "\n"
     ]
    },
    {
     "data": {
      "text/plain": [
       "                 count unique  ...      75%       max\n",
       "method            1035     10  ...      NaN       NaN\n",
       "number          1035.0    NaN  ...      2.0       7.0\n",
       "orbital_period   992.0    NaN  ...  526.005  730000.0\n",
       "mass             513.0    NaN  ...     3.04      25.0\n",
       "distance         808.0    NaN  ...    178.5    8500.0\n",
       "year            1035.0    NaN  ...   2012.0    2014.0\n",
       "\n",
       "[6 rows x 11 columns]"
      ]
     },
     "execution_count": 4,
     "metadata": {},
     "output_type": "execute_result"
    }
   ],
   "source": [
    "import seaborn as sns\n",
    "planets = sns.load_dataset(\"planets\")\n",
    "df = planets.copy()\n",
    "df.head\n",
    "df.shape\n",
    "df.columns\n",
    "df.describe(include=\"all\").T"
   ]
  },
  {
   "cell_type": "markdown",
   "metadata": {
    "jukit_cell_id": "zugWWGdfZ2"
   },
   "source": [
    "Eksik degerlerin incelenmesi"
   ]
  },
  {
   "cell_type": "code",
   "execution_count": 5,
   "metadata": {
    "jukit_cell_id": "mX9sna94ZI"
   },
   "outputs": [
    {
     "name": "stdout",
     "output_type": "stream",
     "text": [
      "\n"
     ]
    },
    {
     "data": {
      "text/plain": [
       "<bound method NDFrame.head of                method  number  ...  distance  year\n",
       "0     Radial Velocity       1  ...     77.40  2006\n",
       "1     Radial Velocity       1  ...     56.95  2008\n",
       "2     Radial Velocity       1  ...     19.84  2011\n",
       "3     Radial Velocity       1  ...    110.62  2007\n",
       "4     Radial Velocity       1  ...    119.47  2009\n",
       "...               ...     ...  ...       ...   ...\n",
       "1030          Transit       1  ...    172.00  2006\n",
       "1031          Transit       1  ...    148.00  2007\n",
       "1032          Transit       1  ...    174.00  2007\n",
       "1033          Transit       1  ...    293.00  2008\n",
       "1034          Transit       1  ...    260.00  2008\n",
       "\n",
       "[1035 rows x 6 columns]>"
      ]
     },
     "execution_count": 5,
     "metadata": {},
     "output_type": "execute_result"
    }
   ],
   "source": [
    "import seaborn as sns\n",
    "planets = sns.load_dataset(\"planets\")\n",
    "df = planets.copy()\n",
    "df.head"
   ]
  },
  {
   "cell_type": "markdown",
   "metadata": {
    "jukit_cell_id": "KAoC1lHSko"
   },
   "source": [
    "Hic eksik gozlem (deger) var mi?"
   ]
  },
  {
   "cell_type": "code",
   "execution_count": 6,
   "metadata": {
    "jukit_cell_id": "AIPyYPqlsr"
   },
   "outputs": [
    {
     "name": "stdout",
     "output_type": "stream",
     "text": [
      "\n"
     ]
    },
    {
     "data": {
      "text/plain": [
       "True"
      ]
     },
     "execution_count": 6,
     "metadata": {},
     "output_type": "execute_result"
    }
   ],
   "source": [
    "df.isnull().values.any()"
   ]
  },
  {
   "cell_type": "markdown",
   "metadata": {
    "jukit_cell_id": "wNPahYs0OK"
   },
   "source": [
    "Hangi degiskende kacar tane var?"
   ]
  },
  {
   "cell_type": "code",
   "execution_count": 7,
   "metadata": {
    "jukit_cell_id": "mWFLyvG77A"
   },
   "outputs": [
    {
     "name": "stdout",
     "output_type": "stream",
     "text": [
      "\n"
     ]
    },
    {
     "data": {
      "text/plain": [
       "method              0\n",
       "number              0\n",
       "orbital_period     43\n",
       "mass              522\n",
       "distance          227\n",
       "year                0\n",
       "dtype: int64"
      ]
     },
     "execution_count": 7,
     "metadata": {},
     "output_type": "execute_result"
    }
   ],
   "source": [
    "df.isnull().sum()\n",
    "df[\"orbital_period\"].fillna(0, inplace = True)\n",
    "df.isnull().sum()\n",
    "df[\"mass\"].fillna(df.mass.mean(), inplace = True)\n",
    "df.isnull().sum()\n",
    "df.fillna(df.mean(), inplace = True)\n",
    "df.isnull().sum()\n",
    "df = planets.copy()\n",
    "df.head()\n",
    "df.isnull().sum()"
   ]
  },
  {
   "cell_type": "markdown",
   "metadata": {
    "jukit_cell_id": "APVnksCOW2"
   },
   "source": [
    " ## Kategorik Degisken Islemleri"
   ]
  },
  {
   "cell_type": "code",
   "execution_count": 8,
   "metadata": {
    "jukit_cell_id": "8ueShTH9tD"
   },
   "outputs": [
    {
     "name": "stdout",
     "output_type": "stream",
     "text": [
      "\n"
     ]
    },
    {
     "data": {
      "text/plain": [
       "<bound method NDFrame.head of                method  number  ...  distance  year\n",
       "0     Radial Velocity       1  ...     77.40  2006\n",
       "1     Radial Velocity       1  ...     56.95  2008\n",
       "2     Radial Velocity       1  ...     19.84  2011\n",
       "3     Radial Velocity       1  ...    110.62  2007\n",
       "4     Radial Velocity       1  ...    119.47  2009\n",
       "...               ...     ...  ...       ...   ...\n",
       "1030          Transit       1  ...    172.00  2006\n",
       "1031          Transit       1  ...    148.00  2007\n",
       "1032          Transit       1  ...    174.00  2007\n",
       "1033          Transit       1  ...    293.00  2008\n",
       "1034          Transit       1  ...    260.00  2008\n",
       "\n",
       "[1035 rows x 6 columns]>"
      ]
     },
     "execution_count": 8,
     "metadata": {},
     "output_type": "execute_result"
    }
   ],
   "source": [
    "import seaborn as sns\n",
    "planets = sns.load_dataset(\"planets\")\n",
    "df = planets.copy()\n",
    "df.head"
   ]
  },
  {
   "cell_type": "markdown",
   "metadata": {
    "jukit_cell_id": "c7SJYBij15"
   },
   "source": [
    "### Sadece kategorik Degiskenler ve Ozetleri"
   ]
  },
  {
   "cell_type": "code",
   "execution_count": 9,
   "metadata": {
    "jukit_cell_id": "KlPHmMVoXA"
   },
   "outputs": [
    {
     "name": "stdout",
     "output_type": "stream",
     "text": [
      "\n"
     ]
    },
    {
     "data": {
      "text/plain": [
       "               method\n",
       "0     Radial Velocity\n",
       "1     Radial Velocity\n",
       "2     Radial Velocity\n",
       "3     Radial Velocity\n",
       "4     Radial Velocity\n",
       "...               ...\n",
       "1030          Transit\n",
       "1031          Transit\n",
       "1032          Transit\n",
       "1033          Transit\n",
       "1034          Transit\n",
       "\n",
       "[1035 rows x 1 columns]"
      ]
     },
     "execution_count": 9,
     "metadata": {},
     "output_type": "execute_result"
    }
   ],
   "source": [
    "kat_df = df.select_dtypes(include = [\"object\"])\n",
    "kat_df"
   ]
  },
  {
   "cell_type": "markdown",
   "metadata": {
    "jukit_cell_id": "FWx4H5SWhV"
   },
   "source": [
    "### Kategorik Değişkenin Sınıflarına ve Sınıf Sayısına Erişmek"
   ]
  },
  {
   "cell_type": "code",
   "execution_count": 10,
   "metadata": {
    "jukit_cell_id": "3pvE96rvpC"
   },
   "outputs": [
    {
     "name": "stdout",
     "output_type": "stream",
     "text": [
      "\n"
     ]
    },
    {
     "data": {
      "text/plain": [
       "10"
      ]
     },
     "execution_count": 10,
     "metadata": {},
     "output_type": "execute_result"
    }
   ],
   "source": [
    "kat_df.method.unique()\n",
    "kat_df[\"method\"].value_counts().count()"
   ]
  },
  {
   "cell_type": "markdown",
   "metadata": {
    "jukit_cell_id": "VOL0x28KWM"
   },
   "source": [
    "### Kategorik Değişkenin Sınıflarının Frekanslarına Erişme"
   ]
  },
  {
   "cell_type": "code",
   "execution_count": 11,
   "metadata": {
    "jukit_cell_id": "HhR44r4BbO"
   },
   "outputs": [
    {
     "name": "stdout",
     "output_type": "stream",
     "text": [
      "\n"
     ]
    },
    {
     "data": {
      "image/png": "[encoded data removed]"
     },
     "metadata": {},
     "output_type": "display_data"
    },
    {
     "name": "stdout",
     "output_type": "stream",
     "text": [
      "\n"
     ]
    },
    {
     "data": {
      "text/plain": [
       "<AxesSubplot:>"
      ]
     },
     "execution_count": 11,
     "metadata": {},
     "output_type": "execute_result"
    }
   ],
   "source": [
    "kat_df[\"method\"].value_counts()\n",
    "kat_df[\"method\"].value_counts().plot.barh()"
   ]
  },
  {
   "cell_type": "markdown",
   "metadata": {
    "jukit_cell_id": "XBZZP3NOl2"
   },
   "source": [
    "## Surekli Degisken Özetleri "
   ]
  }
 ],
 "metadata": {
  "anaconda-cloud": {},
  "kernelspec": {
   "display_name": "Python 3 (ipykernel)",
   "language": "python",
   "name": "python3"
  },
  "language_info": {
   "codemirror_mode": {
    "name": "ipython",
    "version": 3
   },
   "file_extension": ".py",
   "mimetype": "text/x-python",
   "name": "python",
   "nbconvert_exporter": "python",
   "pygments_lexer": "ipython3",
   "version": "3.9.7"
  }
 },
 "nbformat": 4,
 "nbformat_minor": 4
}
