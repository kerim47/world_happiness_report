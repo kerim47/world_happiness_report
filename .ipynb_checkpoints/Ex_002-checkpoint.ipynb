{
 "cells": [
  {
   "cell_type": "code",
   "execution_count": 3,
   "id": "b1be280e",
   "metadata": {},
   "outputs": [
    {
     "data": {
      "text/plain": [
       "array([[7, 0, 8, 1, 3],\n",
       "       [0, 6, 6, 7, 5],\n",
       "       [0, 7, 9, 9, 5],\n",
       "       [6, 1, 7, 9, 5],\n",
       "       [6, 0, 2, 3, 4]])"
      ]
     },
     "execution_count": 3,
     "metadata": {},
     "output_type": "execute_result"
    }
   ],
   "source": [
    "#İKİ BOYUTLU SLICE İSLEMLERİ\n",
    "#:s/^/#/\n",
    "import numpy as np\n",
    "m = np.random.randint(10, size = (5,5))\n",
    "m"
   ]
  },
  {
   "cell_type": "code",
   "execution_count": 10,
   "id": "288f1a45",
   "metadata": {},
   "outputs": [
    {
     "data": {
      "text/plain": [
       "array([[6, 6, 7],\n",
       "       [7, 9, 9],\n",
       "       [1, 7, 9]])"
      ]
     },
     "execution_count": 10,
     "metadata": {},
     "output_type": "execute_result"
    }
   ],
   "source": [
    "m[1:4,1:4]"
   ]
  },
  {
   "cell_type": "code",
   "execution_count": 11,
   "id": "55a6a2db",
   "metadata": {},
   "outputs": [
    {
     "data": {
      "text/plain": [
       "array([7, 0, 8, 1, 3])"
      ]
     },
     "execution_count": 11,
     "metadata": {},
     "output_type": "execute_result"
    }
   ],
   "source": [
    "m[0, :]"
   ]
  },
  {
   "cell_type": "code",
   "execution_count": 5,
   "id": "373673ab",
   "metadata": {},
   "outputs": [
    {
     "data": {
      "text/plain": [
       "array([1, 0, 5])"
      ]
     },
     "execution_count": 5,
     "metadata": {},
     "output_type": "execute_result"
    }
   ],
   "source": [
    "m[0,2:]"
   ]
  },
  {
   "cell_type": "code",
   "execution_count": 20,
   "id": "4b489a29",
   "metadata": {},
   "outputs": [
    {
     "data": {
      "text/plain": [
       "array([[2, 7, 0, 4, 7],\n",
       "       [2, 0, 6, 5, 9],\n",
       "       [1, 4, 6, 8, 8]])"
      ]
     },
     "execution_count": 20,
     "metadata": {},
     "output_type": "execute_result"
    }
   ],
   "source": [
    "m[1:4]"
   ]
  },
  {
   "cell_type": "code",
   "execution_count": 22,
   "id": "e0e3d874",
   "metadata": {},
   "outputs": [
    {
     "data": {
      "text/plain": [
       "array([3, 1, 0])"
      ]
     },
     "execution_count": 22,
     "metadata": {},
     "output_type": "execute_result"
    }
   ],
   "source": [
    "m[0,1:4]"
   ]
  },
  {
   "cell_type": "code",
   "execution_count": 16,
   "id": "1a223a02",
   "metadata": {},
   "outputs": [
    {
     "data": {
      "text/plain": [
       "array([[6, 6, 7, 5],\n",
       "       [7, 9, 9, 5],\n",
       "       [1, 7, 9, 5],\n",
       "       [0, 2, 3, 4]])"
      ]
     },
     "execution_count": 16,
     "metadata": {},
     "output_type": "execute_result"
    }
   ],
   "source": [
    "satir_karakteri=1\n",
    "minor=m[satir_karakteri:, satir_karakteri:].copy()\n",
    "minor\n",
    "\n",
    "#minor[minor<5]"
   ]
  },
  {
   "cell_type": "code",
   "execution_count": 17,
   "id": "3ac97f93",
   "metadata": {},
   "outputs": [
    {
     "data": {
      "text/plain": [
       "5.3125"
      ]
     },
     "execution_count": 17,
     "metadata": {},
     "output_type": "execute_result"
    }
   ],
   "source": [
    "np.mean(minor)"
   ]
  },
  {
   "cell_type": "code",
   "execution_count": 18,
   "id": "9aca194f",
   "metadata": {},
   "outputs": [
    {
     "data": {
      "text/plain": [
       "85"
      ]
     },
     "execution_count": 18,
     "metadata": {},
     "output_type": "execute_result"
    }
   ],
   "source": [
    "np.sum(minor)"
   ]
  },
  {
   "cell_type": "code",
   "execution_count": 19,
   "id": "79149e74",
   "metadata": {},
   "outputs": [
    {
     "data": {
      "text/plain": [
       "7.21484375"
      ]
     },
     "execution_count": 19,
     "metadata": {},
     "output_type": "execute_result"
    }
   ],
   "source": [
    "np.var(minor)"
   ]
  },
  {
   "cell_type": "code",
   "execution_count": 38,
   "id": "ae29fe6f",
   "metadata": {},
   "outputs": [
    {
     "data": {
      "text/plain": [
       "array([[8, 6, 1, 6, 0],\n",
       "       [9, 4, 5, 0, 9],\n",
       "       [7, 8, 6, 8, 9],\n",
       "       [0, 1, 6, 1, 3],\n",
       "       [0, 8, 0, 5, 8]])"
      ]
     },
     "execution_count": 38,
     "metadata": {},
     "output_type": "execute_result"
    }
   ],
   "source": [
    "dizi = np.random.randint(10, size = (5,5))\n",
    "dizi"
   ]
  },
  {
   "cell_type": "code",
   "execution_count": 51,
   "id": "efdbe533",
   "metadata": {},
   "outputs": [
    {
     "data": {
      "text/plain": [
       "array([[False,  True,  True,  True,  True],\n",
       "       [False,  True,  True,  True, False],\n",
       "       [False, False,  True, False, False],\n",
       "       [ True,  True,  True,  True,  True],\n",
       "       [ True, False,  True,  True, False]])"
      ]
     },
     "execution_count": 51,
     "metadata": {},
     "output_type": "execute_result"
    }
   ],
   "source": [
    "dizi<7\n"
   ]
  },
  {
   "cell_type": "code",
   "execution_count": 52,
   "id": "ef8ff8f5",
   "metadata": {},
   "outputs": [
    {
     "data": {
      "text/plain": [
       "16"
      ]
     },
     "execution_count": 52,
     "metadata": {},
     "output_type": "execute_result"
    }
   ],
   "source": [
    "sonuclar = dizi < 7\n",
    "true_sayisi = np.count_nonzero(sonuclar)\n",
    "true_sayisi"
   ]
  },
  {
   "cell_type": "code",
   "execution_count": 59,
   "id": "839ea3e0",
   "metadata": {},
   "outputs": [
    {
     "name": "stdout",
     "output_type": "stream",
     "text": [
      "16"
     ]
    },
    {
     "data": {
      "text/plain": [
       "array([6, 1, 6, 0, 4, 5, 0, 6, 0, 1, 6, 1, 3, 0, 0, 5])"
      ]
     },
     "execution_count": 59,
     "metadata": {},
     "output_type": "execute_result"
    }
   ],
   "source": [
    "print(len(dizi[dizi < 7]), end=\"\")\n",
    "dizi[dizi < 7]"
   ]
  },
  {
   "cell_type": "code",
   "execution_count": 83,
   "id": "cce91f37",
   "metadata": {},
   "outputs": [
    {
     "name": "stdout",
     "output_type": "stream",
     "text": [
      "0    6\n",
      "1    5\n",
      "2    2\n",
      "3    3\n",
      "4    1\n",
      "dtype: int64\n",
      "0    6\n",
      "1    5\n",
      "2    2\n",
      "dtype: int64\n"
     ]
    }
   ],
   "source": [
    "import pandas as pd\n",
    "import numpy as np\n",
    "\n",
    "dizi = np.random.randint(1, 10, size=5)\n",
    "abc = pd.Series(dizi, index=range(len(dizi)))\n",
    "print(abc)\n",
    "print(abc[0:len(dizi)-2])"
   ]
  },
  {
   "cell_type": "code",
   "execution_count": 95,
   "id": "947a0441",
   "metadata": {},
   "outputs": [
    {
     "data": {
      "text/plain": [
       "0    7\n",
       "1    2\n",
       "2    4\n",
       "3    7\n",
       "4    5\n",
       "5    6\n",
       "6    8\n",
       "7    3\n",
       "8    5\n",
       "9    8\n",
       "dtype: int64"
      ]
     },
     "execution_count": 95,
     "metadata": {},
     "output_type": "execute_result"
    }
   ],
   "source": [
    "sozluk_1 = {i:j for i, j in enumerate(np.random.randint(1, 10, size=5))}\n",
    "sozluk_2 = {i:j for i, j in enumerate(np.random.randint(1, 10, size=5))}\n",
    "yeni_sozluk = pd.concat([pd.Series(sozluk_1), pd.Series(sozluk_2)], ignore_index=True) # ignore kullanılmazsa ikinci dizi baslangici sıfırdan başlar.\n",
    "yeni_sozluk"
   ]
  },
  {
   "cell_type": "code",
   "execution_count": 96,
   "id": "9b741150",
   "metadata": {},
   "outputs": [
    {
     "data": {
      "text/plain": [
       "<bound method Series.keys of 0    7\n",
       "1    2\n",
       "2    4\n",
       "3    7\n",
       "4    5\n",
       "5    6\n",
       "6    8\n",
       "7    3\n",
       "8    5\n",
       "9    8\n",
       "dtype: int64>"
      ]
     },
     "execution_count": 96,
     "metadata": {},
     "output_type": "execute_result"
    }
   ],
   "source": [
    "yeni_sozluk.index\n",
    "yeni_sozluk.keys"
   ]
  },
  {
   "cell_type": "code",
   "execution_count": 101,
   "id": "00c9e6ac",
   "metadata": {},
   "outputs": [
    {
     "data": {
      "text/plain": [
       "7"
      ]
     },
     "execution_count": 101,
     "metadata": {},
     "output_type": "execute_result"
    }
   ],
   "source": [
    "0 in yeni_sozluk\n",
    "yeni_sozluk[0]"
   ]
  },
  {
   "cell_type": "code",
   "execution_count": 105,
   "id": "ce8d69d2",
   "metadata": {},
   "outputs": [
    {
     "data": {
      "text/html": [
       "<div>\n",
       "<style scoped>\n",
       "    .dataframe tbody tr th:only-of-type {\n",
       "        vertical-align: middle;\n",
       "    }\n",
       "\n",
       "    .dataframe tbody tr th {\n",
       "        vertical-align: top;\n",
       "    }\n",
       "\n",
       "    .dataframe thead th {\n",
       "        text-align: right;\n",
       "    }\n",
       "</style>\n",
       "<table border=\"1\" class=\"dataframe\">\n",
       "  <thead>\n",
       "    <tr style=\"text-align: right;\">\n",
       "      <th></th>\n",
       "      <th>Random Degerler</th>\n",
       "    </tr>\n",
       "  </thead>\n",
       "  <tbody>\n",
       "    <tr>\n",
       "      <th>0</th>\n",
       "      <td>7</td>\n",
       "    </tr>\n",
       "    <tr>\n",
       "      <th>1</th>\n",
       "      <td>2</td>\n",
       "    </tr>\n",
       "    <tr>\n",
       "      <th>2</th>\n",
       "      <td>4</td>\n",
       "    </tr>\n",
       "    <tr>\n",
       "      <th>3</th>\n",
       "      <td>7</td>\n",
       "    </tr>\n",
       "    <tr>\n",
       "      <th>4</th>\n",
       "      <td>5</td>\n",
       "    </tr>\n",
       "    <tr>\n",
       "      <th>5</th>\n",
       "      <td>6</td>\n",
       "    </tr>\n",
       "    <tr>\n",
       "      <th>6</th>\n",
       "      <td>8</td>\n",
       "    </tr>\n",
       "    <tr>\n",
       "      <th>7</th>\n",
       "      <td>3</td>\n",
       "    </tr>\n",
       "    <tr>\n",
       "      <th>8</th>\n",
       "      <td>5</td>\n",
       "    </tr>\n",
       "    <tr>\n",
       "      <th>9</th>\n",
       "      <td>8</td>\n",
       "    </tr>\n",
       "  </tbody>\n",
       "</table>\n",
       "</div>"
      ],
      "text/plain": [
       "   Random Degerler\n",
       "0                7\n",
       "1                2\n",
       "2                4\n",
       "3                7\n",
       "4                5\n",
       "5                6\n",
       "6                8\n",
       "7                3\n",
       "8                5\n",
       "9                8"
      ]
     },
     "execution_count": 105,
     "metadata": {},
     "output_type": "execute_result"
    }
   ],
   "source": [
    "import pandas as pd\n",
    "pd.DataFrame(yeni_sozluk, columns=[\"Random Degerler\"])"
   ]
  },
  {
   "cell_type": "code",
   "execution_count": 112,
   "id": "58941aea",
   "metadata": {},
   "outputs": [],
   "source": [
    "import numpy as np\n",
    "np_dizi = np.arange(1, 34)\n",
    "y = np_dizi.reshape(11, 3)\n",
    "?np.reshape"
   ]
  },
  {
   "cell_type": "code",
   "execution_count": 118,
   "id": "e94f8c1f",
   "metadata": {},
   "outputs": [
    {
     "data": {
      "text/html": [
       "<div>\n",
       "<style scoped>\n",
       "    .dataframe tbody tr th:only-of-type {\n",
       "        vertical-align: middle;\n",
       "    }\n",
       "\n",
       "    .dataframe tbody tr th {\n",
       "        vertical-align: top;\n",
       "    }\n",
       "\n",
       "    .dataframe thead th {\n",
       "        text-align: right;\n",
       "    }\n",
       "</style>\n",
       "<table border=\"1\" class=\"dataframe\">\n",
       "  <thead>\n",
       "    <tr style=\"text-align: right;\">\n",
       "      <th></th>\n",
       "      <th>0</th>\n",
       "      <th>1</th>\n",
       "      <th>2</th>\n",
       "    </tr>\n",
       "  </thead>\n",
       "  <tbody>\n",
       "    <tr>\n",
       "      <th>0</th>\n",
       "      <td>1</td>\n",
       "      <td>2</td>\n",
       "      <td>3</td>\n",
       "    </tr>\n",
       "    <tr>\n",
       "      <th>1</th>\n",
       "      <td>4</td>\n",
       "      <td>5</td>\n",
       "      <td>6</td>\n",
       "    </tr>\n",
       "    <tr>\n",
       "      <th>2</th>\n",
       "      <td>7</td>\n",
       "      <td>8</td>\n",
       "      <td>9</td>\n",
       "    </tr>\n",
       "    <tr>\n",
       "      <th>3</th>\n",
       "      <td>10</td>\n",
       "      <td>11</td>\n",
       "      <td>12</td>\n",
       "    </tr>\n",
       "    <tr>\n",
       "      <th>4</th>\n",
       "      <td>13</td>\n",
       "      <td>14</td>\n",
       "      <td>15</td>\n",
       "    </tr>\n",
       "    <tr>\n",
       "      <th>5</th>\n",
       "      <td>16</td>\n",
       "      <td>17</td>\n",
       "      <td>18</td>\n",
       "    </tr>\n",
       "    <tr>\n",
       "      <th>6</th>\n",
       "      <td>19</td>\n",
       "      <td>20</td>\n",
       "      <td>21</td>\n",
       "    </tr>\n",
       "    <tr>\n",
       "      <th>7</th>\n",
       "      <td>22</td>\n",
       "      <td>23</td>\n",
       "      <td>24</td>\n",
       "    </tr>\n",
       "    <tr>\n",
       "      <th>8</th>\n",
       "      <td>25</td>\n",
       "      <td>26</td>\n",
       "      <td>27</td>\n",
       "    </tr>\n",
       "    <tr>\n",
       "      <th>9</th>\n",
       "      <td>28</td>\n",
       "      <td>29</td>\n",
       "      <td>30</td>\n",
       "    </tr>\n",
       "    <tr>\n",
       "      <th>10</th>\n",
       "      <td>31</td>\n",
       "      <td>32</td>\n",
       "      <td>33</td>\n",
       "    </tr>\n",
       "  </tbody>\n",
       "</table>\n",
       "</div>"
      ],
      "text/plain": [
       "     0   1   2\n",
       "0    1   2   3\n",
       "1    4   5   6\n",
       "2    7   8   9\n",
       "3   10  11  12\n",
       "4   13  14  15\n",
       "5   16  17  18\n",
       "6   19  20  21\n",
       "7   22  23  24\n",
       "8   25  26  27\n",
       "9   28  29  30\n",
       "10  31  32  33"
      ]
     },
     "execution_count": 118,
     "metadata": {},
     "output_type": "execute_result"
    }
   ],
   "source": [
    "df_dizi = pd.DataFrame(y)\n",
    "df_dizi"
   ]
  },
  {
   "cell_type": "code",
   "execution_count": 120,
   "id": "5526568f",
   "metadata": {},
   "outputs": [
    {
     "data": {
      "text/html": [
       "<div>\n",
       "<style scoped>\n",
       "    .dataframe tbody tr th:only-of-type {\n",
       "        vertical-align: middle;\n",
       "    }\n",
       "\n",
       "    .dataframe tbody tr th {\n",
       "        vertical-align: top;\n",
       "    }\n",
       "\n",
       "    .dataframe thead th {\n",
       "        text-align: right;\n",
       "    }\n",
       "</style>\n",
       "<table border=\"1\" class=\"dataframe\">\n",
       "  <thead>\n",
       "    <tr style=\"text-align: right;\">\n",
       "      <th></th>\n",
       "      <th>0</th>\n",
       "      <th>1</th>\n",
       "      <th>2</th>\n",
       "    </tr>\n",
       "  </thead>\n",
       "  <tbody>\n",
       "    <tr>\n",
       "      <th>0</th>\n",
       "      <td>1</td>\n",
       "      <td>2</td>\n",
       "      <td>3</td>\n",
       "    </tr>\n",
       "    <tr>\n",
       "      <th>1</th>\n",
       "      <td>4</td>\n",
       "      <td>5</td>\n",
       "      <td>6</td>\n",
       "    </tr>\n",
       "    <tr>\n",
       "      <th>2</th>\n",
       "      <td>7</td>\n",
       "      <td>8</td>\n",
       "      <td>9</td>\n",
       "    </tr>\n",
       "    <tr>\n",
       "      <th>3</th>\n",
       "      <td>10</td>\n",
       "      <td>11</td>\n",
       "      <td>12</td>\n",
       "    </tr>\n",
       "    <tr>\n",
       "      <th>4</th>\n",
       "      <td>13</td>\n",
       "      <td>14</td>\n",
       "      <td>15</td>\n",
       "    </tr>\n",
       "  </tbody>\n",
       "</table>\n",
       "</div>"
      ],
      "text/plain": [
       "    0   1   2\n",
       "0   1   2   3\n",
       "1   4   5   6\n",
       "2   7   8   9\n",
       "3  10  11  12\n",
       "4  13  14  15"
      ]
     },
     "execution_count": 120,
     "metadata": {},
     "output_type": "execute_result"
    }
   ],
   "source": [
    "df_dizi.head()\n",
    "# df_dizi.tail()\n"
   ]
  },
  {
   "cell_type": "code",
   "execution_count": 125,
   "id": "5f5a3d6f",
   "metadata": {},
   "outputs": [
    {
     "name": "stdout",
     "output_type": "stream",
     "text": [
      "33\n",
      "2\n",
      "[RangeIndex(start=0, stop=11, step=1), RangeIndex(start=0, stop=3, step=1)]\n",
      "[[ 1  2  3]\n",
      " [ 4  5  6]\n",
      " [ 7  8  9]\n",
      " [10 11 12]\n",
      " [13 14 15]\n",
      " [16 17 18]\n",
      " [19 20 21]\n",
      " [22 23 24]\n",
      " [25 26 27]\n",
      " [28 29 30]\n",
      " [31 32 33]]\n"
     ]
    }
   ],
   "source": [
    "type(df_dizi)\n",
    "print(df_dizi.size)\n",
    "print(df_dizi.ndim)\n",
    "print(df_dizi.axes)\n",
    "print(df_dizi.values)"
   ]
  },
  {
   "cell_type": "code",
   "execution_count": 130,
   "id": "b0684331",
   "metadata": {},
   "outputs": [
    {
     "data": {
      "text/html": [
       "<div>\n",
       "<style scoped>\n",
       "    .dataframe tbody tr th:only-of-type {\n",
       "        vertical-align: middle;\n",
       "    }\n",
       "\n",
       "    .dataframe tbody tr th {\n",
       "        vertical-align: top;\n",
       "    }\n",
       "\n",
       "    .dataframe thead th {\n",
       "        text-align: right;\n",
       "    }\n",
       "</style>\n",
       "<table border=\"1\" class=\"dataframe\">\n",
       "  <thead>\n",
       "    <tr style=\"text-align: right;\">\n",
       "      <th></th>\n",
       "      <th>var1</th>\n",
       "      <th>var2</th>\n",
       "    </tr>\n",
       "  </thead>\n",
       "  <tbody>\n",
       "    <tr>\n",
       "      <th>0</th>\n",
       "      <td>19</td>\n",
       "      <td>8</td>\n",
       "    </tr>\n",
       "    <tr>\n",
       "      <th>1</th>\n",
       "      <td>9</td>\n",
       "      <td>8</td>\n",
       "    </tr>\n",
       "    <tr>\n",
       "      <th>2</th>\n",
       "      <td>1</td>\n",
       "      <td>23</td>\n",
       "    </tr>\n",
       "  </tbody>\n",
       "</table>\n",
       "</div>"
      ],
      "text/plain": [
       "   var1  var2\n",
       "0    19     8\n",
       "1     9     8\n",
       "2     1    23"
      ]
     },
     "execution_count": 130,
     "metadata": {},
     "output_type": "execute_result"
    }
   ],
   "source": [
    "import numpy as np\n",
    "import pandas as pd\n",
    "m = np.random.randint(1,30, size = (10,3))\n",
    "df = pd.DataFrame(m, columns = [\"var1\",\"var2\",\"var3\"])\n",
    "df[\"var1\"]\n",
    "df[[\"var1\",\"var2\"]][0:3] # belirli kolonları istenilen satır kadar ekrana listeleme"
   ]
  },
  {
   "cell_type": "code",
   "execution_count": 4,
   "id": "af33f794",
   "metadata": {},
   "outputs": [],
   "source": [
    "import pandas as pd\n",
    "df = pd.read_csv(\"world_happiness_report.csv\")"
   ]
  },
  {
   "cell_type": "code",
   "execution_count": 5,
   "id": "45338860",
   "metadata": {},
   "outputs": [
    {
     "data": {
      "text/html": [
       "<div>\n",
       "<style scoped>\n",
       "    .dataframe tbody tr th:only-of-type {\n",
       "        vertical-align: middle;\n",
       "    }\n",
       "\n",
       "    .dataframe tbody tr th {\n",
       "        vertical-align: top;\n",
       "    }\n",
       "\n",
       "    .dataframe thead th {\n",
       "        text-align: right;\n",
       "    }\n",
       "</style>\n",
       "<table border=\"1\" class=\"dataframe\">\n",
       "  <thead>\n",
       "    <tr style=\"text-align: right;\">\n",
       "      <th></th>\n",
       "      <th>Country Name</th>\n",
       "      <th>Regional Indicator</th>\n",
       "      <th>Year</th>\n",
       "      <th>Life Ladder</th>\n",
       "      <th>Log GDP Per Capita</th>\n",
       "      <th>Social Support</th>\n",
       "      <th>Healthy Life Expectancy At Birth</th>\n",
       "      <th>Freedom To Make Life Choices</th>\n",
       "      <th>Generosity</th>\n",
       "      <th>Perceptions Of Corruption</th>\n",
       "      <th>Positive Affect</th>\n",
       "      <th>Negative Affect</th>\n",
       "      <th>Confidence In National Government</th>\n",
       "    </tr>\n",
       "  </thead>\n",
       "  <tbody>\n",
       "    <tr>\n",
       "      <th>0</th>\n",
       "      <td>Afghanistan</td>\n",
       "      <td>South Asia</td>\n",
       "      <td>2008</td>\n",
       "      <td>3.723590</td>\n",
       "      <td>7.350416</td>\n",
       "      <td>0.450662</td>\n",
       "      <td>50.500000</td>\n",
       "      <td>0.718114</td>\n",
       "      <td>0.167652</td>\n",
       "      <td>0.881686</td>\n",
       "      <td>0.414297</td>\n",
       "      <td>0.258195</td>\n",
       "      <td>0.612072</td>\n",
       "    </tr>\n",
       "    <tr>\n",
       "      <th>1</th>\n",
       "      <td>Afghanistan</td>\n",
       "      <td>South Asia</td>\n",
       "      <td>2009</td>\n",
       "      <td>4.401778</td>\n",
       "      <td>7.508646</td>\n",
       "      <td>0.552308</td>\n",
       "      <td>50.799999</td>\n",
       "      <td>0.678896</td>\n",
       "      <td>0.190809</td>\n",
       "      <td>0.850035</td>\n",
       "      <td>0.481421</td>\n",
       "      <td>0.237092</td>\n",
       "      <td>0.611545</td>\n",
       "    </tr>\n",
       "    <tr>\n",
       "      <th>2</th>\n",
       "      <td>Afghanistan</td>\n",
       "      <td>South Asia</td>\n",
       "      <td>2010</td>\n",
       "      <td>4.758381</td>\n",
       "      <td>7.613900</td>\n",
       "      <td>0.539075</td>\n",
       "      <td>51.099998</td>\n",
       "      <td>0.600127</td>\n",
       "      <td>0.121316</td>\n",
       "      <td>0.706766</td>\n",
       "      <td>0.516907</td>\n",
       "      <td>0.275324</td>\n",
       "      <td>0.299357</td>\n",
       "    </tr>\n",
       "    <tr>\n",
       "      <th>3</th>\n",
       "      <td>Afghanistan</td>\n",
       "      <td>South Asia</td>\n",
       "      <td>2011</td>\n",
       "      <td>3.831719</td>\n",
       "      <td>7.581259</td>\n",
       "      <td>0.521104</td>\n",
       "      <td>51.400002</td>\n",
       "      <td>0.495901</td>\n",
       "      <td>0.163571</td>\n",
       "      <td>0.731109</td>\n",
       "      <td>0.479835</td>\n",
       "      <td>0.267175</td>\n",
       "      <td>0.307386</td>\n",
       "    </tr>\n",
       "    <tr>\n",
       "      <th>4</th>\n",
       "      <td>Afghanistan</td>\n",
       "      <td>South Asia</td>\n",
       "      <td>2012</td>\n",
       "      <td>3.782938</td>\n",
       "      <td>7.660506</td>\n",
       "      <td>0.520637</td>\n",
       "      <td>51.700001</td>\n",
       "      <td>0.530935</td>\n",
       "      <td>0.237588</td>\n",
       "      <td>0.775620</td>\n",
       "      <td>0.613513</td>\n",
       "      <td>0.267919</td>\n",
       "      <td>0.435440</td>\n",
       "    </tr>\n",
       "  </tbody>\n",
       "</table>\n",
       "</div>"
      ],
      "text/plain": [
       "  Country Name Regional Indicator  Year  Life Ladder  Log GDP Per Capita  \\\n",
       "0  Afghanistan         South Asia  2008     3.723590            7.350416   \n",
       "1  Afghanistan         South Asia  2009     4.401778            7.508646   \n",
       "2  Afghanistan         South Asia  2010     4.758381            7.613900   \n",
       "3  Afghanistan         South Asia  2011     3.831719            7.581259   \n",
       "4  Afghanistan         South Asia  2012     3.782938            7.660506   \n",
       "\n",
       "   Social Support  Healthy Life Expectancy At Birth  \\\n",
       "0        0.450662                         50.500000   \n",
       "1        0.552308                         50.799999   \n",
       "2        0.539075                         51.099998   \n",
       "3        0.521104                         51.400002   \n",
       "4        0.520637                         51.700001   \n",
       "\n",
       "   Freedom To Make Life Choices  Generosity  Perceptions Of Corruption  \\\n",
       "0                      0.718114    0.167652                   0.881686   \n",
       "1                      0.678896    0.190809                   0.850035   \n",
       "2                      0.600127    0.121316                   0.706766   \n",
       "3                      0.495901    0.163571                   0.731109   \n",
       "4                      0.530935    0.237588                   0.775620   \n",
       "\n",
       "   Positive Affect  Negative Affect  Confidence In National Government  \n",
       "0         0.414297         0.258195                           0.612072  \n",
       "1         0.481421         0.237092                           0.611545  \n",
       "2         0.516907         0.275324                           0.299357  \n",
       "3         0.479835         0.267175                           0.307386  \n",
       "4         0.613513         0.267919                           0.435440  "
      ]
     },
     "execution_count": 5,
     "metadata": {},
     "output_type": "execute_result"
    }
   ],
   "source": [
    "df.head()"
   ]
  },
  {
   "cell_type": "code",
   "execution_count": 7,
   "id": "dcb5ccde",
   "metadata": {},
   "outputs": [
    {
     "data": {
      "text/html": [
       "<div>\n",
       "<style scoped>\n",
       "    .dataframe tbody tr th:only-of-type {\n",
       "        vertical-align: middle;\n",
       "    }\n",
       "\n",
       "    .dataframe tbody tr th {\n",
       "        vertical-align: top;\n",
       "    }\n",
       "\n",
       "    .dataframe thead th {\n",
       "        text-align: right;\n",
       "    }\n",
       "</style>\n",
       "<table border=\"1\" class=\"dataframe\">\n",
       "  <thead>\n",
       "    <tr style=\"text-align: right;\">\n",
       "      <th></th>\n",
       "      <th>count</th>\n",
       "      <th>mean</th>\n",
       "      <th>std</th>\n",
       "      <th>min</th>\n",
       "      <th>25%</th>\n",
       "      <th>50%</th>\n",
       "      <th>75%</th>\n",
       "      <th>max</th>\n",
       "    </tr>\n",
       "  </thead>\n",
       "  <tbody>\n",
       "    <tr>\n",
       "      <th>Year</th>\n",
       "      <td>2199.0</td>\n",
       "      <td>2014.161437</td>\n",
       "      <td>4.718736</td>\n",
       "      <td>2005.000000</td>\n",
       "      <td>2010.000000</td>\n",
       "      <td>2014.000000</td>\n",
       "      <td>2018.000000</td>\n",
       "      <td>2022.000000</td>\n",
       "    </tr>\n",
       "    <tr>\n",
       "      <th>Life Ladder</th>\n",
       "      <td>2199.0</td>\n",
       "      <td>5.479226</td>\n",
       "      <td>1.125529</td>\n",
       "      <td>1.281271</td>\n",
       "      <td>4.646750</td>\n",
       "      <td>5.432437</td>\n",
       "      <td>6.309460</td>\n",
       "      <td>8.018934</td>\n",
       "    </tr>\n",
       "    <tr>\n",
       "      <th>Log GDP Per Capita</th>\n",
       "      <td>2179.0</td>\n",
       "      <td>9.389766</td>\n",
       "      <td>1.153387</td>\n",
       "      <td>5.526723</td>\n",
       "      <td>8.499764</td>\n",
       "      <td>9.498955</td>\n",
       "      <td>10.373216</td>\n",
       "      <td>11.663788</td>\n",
       "    </tr>\n",
       "    <tr>\n",
       "      <th>Social Support</th>\n",
       "      <td>2186.0</td>\n",
       "      <td>0.810679</td>\n",
       "      <td>0.120952</td>\n",
       "      <td>0.228217</td>\n",
       "      <td>0.746609</td>\n",
       "      <td>0.835535</td>\n",
       "      <td>0.904792</td>\n",
       "      <td>0.987343</td>\n",
       "    </tr>\n",
       "    <tr>\n",
       "      <th>Healthy Life Expectancy At Birth</th>\n",
       "      <td>2145.0</td>\n",
       "      <td>63.294583</td>\n",
       "      <td>6.901104</td>\n",
       "      <td>6.720000</td>\n",
       "      <td>59.119999</td>\n",
       "      <td>65.050003</td>\n",
       "      <td>68.500000</td>\n",
       "      <td>74.474998</td>\n",
       "    </tr>\n",
       "    <tr>\n",
       "      <th>Freedom To Make Life Choices</th>\n",
       "      <td>2166.0</td>\n",
       "      <td>0.747858</td>\n",
       "      <td>0.140150</td>\n",
       "      <td>0.257534</td>\n",
       "      <td>0.656528</td>\n",
       "      <td>0.769821</td>\n",
       "      <td>0.859382</td>\n",
       "      <td>0.985178</td>\n",
       "    </tr>\n",
       "    <tr>\n",
       "      <th>Generosity</th>\n",
       "      <td>2126.0</td>\n",
       "      <td>0.000096</td>\n",
       "      <td>0.161083</td>\n",
       "      <td>-0.337527</td>\n",
       "      <td>-0.112116</td>\n",
       "      <td>-0.022671</td>\n",
       "      <td>0.092070</td>\n",
       "      <td>0.702708</td>\n",
       "    </tr>\n",
       "    <tr>\n",
       "      <th>Perceptions Of Corruption</th>\n",
       "      <td>2083.0</td>\n",
       "      <td>0.745195</td>\n",
       "      <td>0.185837</td>\n",
       "      <td>0.035198</td>\n",
       "      <td>0.688139</td>\n",
       "      <td>0.799654</td>\n",
       "      <td>0.868827</td>\n",
       "      <td>0.983276</td>\n",
       "    </tr>\n",
       "    <tr>\n",
       "      <th>Positive Affect</th>\n",
       "      <td>2175.0</td>\n",
       "      <td>0.652143</td>\n",
       "      <td>0.105922</td>\n",
       "      <td>0.178886</td>\n",
       "      <td>0.571684</td>\n",
       "      <td>0.663063</td>\n",
       "      <td>0.737936</td>\n",
       "      <td>0.883586</td>\n",
       "    </tr>\n",
       "    <tr>\n",
       "      <th>Negative Affect</th>\n",
       "      <td>2183.0</td>\n",
       "      <td>0.271501</td>\n",
       "      <td>0.086875</td>\n",
       "      <td>0.082737</td>\n",
       "      <td>0.207660</td>\n",
       "      <td>0.260671</td>\n",
       "      <td>0.322894</td>\n",
       "      <td>0.704590</td>\n",
       "    </tr>\n",
       "    <tr>\n",
       "      <th>Confidence In National Government</th>\n",
       "      <td>1838.0</td>\n",
       "      <td>0.483999</td>\n",
       "      <td>0.193071</td>\n",
       "      <td>0.068769</td>\n",
       "      <td>0.332549</td>\n",
       "      <td>0.467140</td>\n",
       "      <td>0.618846</td>\n",
       "      <td>0.993604</td>\n",
       "    </tr>\n",
       "  </tbody>\n",
       "</table>\n",
       "</div>"
      ],
      "text/plain": [
       "                                    count         mean       std          min  \\\n",
       "Year                               2199.0  2014.161437  4.718736  2005.000000   \n",
       "Life Ladder                        2199.0     5.479226  1.125529     1.281271   \n",
       "Log GDP Per Capita                 2179.0     9.389766  1.153387     5.526723   \n",
       "Social Support                     2186.0     0.810679  0.120952     0.228217   \n",
       "Healthy Life Expectancy At Birth   2145.0    63.294583  6.901104     6.720000   \n",
       "Freedom To Make Life Choices       2166.0     0.747858  0.140150     0.257534   \n",
       "Generosity                         2126.0     0.000096  0.161083    -0.337527   \n",
       "Perceptions Of Corruption          2083.0     0.745195  0.185837     0.035198   \n",
       "Positive Affect                    2175.0     0.652143  0.105922     0.178886   \n",
       "Negative Affect                    2183.0     0.271501  0.086875     0.082737   \n",
       "Confidence In National Government  1838.0     0.483999  0.193071     0.068769   \n",
       "\n",
       "                                           25%          50%          75%  \\\n",
       "Year                               2010.000000  2014.000000  2018.000000   \n",
       "Life Ladder                           4.646750     5.432437     6.309460   \n",
       "Log GDP Per Capita                    8.499764     9.498955    10.373216   \n",
       "Social Support                        0.746609     0.835535     0.904792   \n",
       "Healthy Life Expectancy At Birth     59.119999    65.050003    68.500000   \n",
       "Freedom To Make Life Choices          0.656528     0.769821     0.859382   \n",
       "Generosity                           -0.112116    -0.022671     0.092070   \n",
       "Perceptions Of Corruption             0.688139     0.799654     0.868827   \n",
       "Positive Affect                       0.571684     0.663063     0.737936   \n",
       "Negative Affect                       0.207660     0.260671     0.322894   \n",
       "Confidence In National Government     0.332549     0.467140     0.618846   \n",
       "\n",
       "                                           max  \n",
       "Year                               2022.000000  \n",
       "Life Ladder                           8.018934  \n",
       "Log GDP Per Capita                   11.663788  \n",
       "Social Support                        0.987343  \n",
       "Healthy Life Expectancy At Birth     74.474998  \n",
       "Freedom To Make Life Choices          0.985178  \n",
       "Generosity                            0.702708  \n",
       "Perceptions Of Corruption             0.983276  \n",
       "Positive Affect                       0.883586  \n",
       "Negative Affect                       0.704590  \n",
       "Confidence In National Government     0.993604  "
      ]
     },
     "execution_count": 7,
     "metadata": {},
     "output_type": "execute_result"
    }
   ],
   "source": [
    "df.describe().T"
   ]
  },
  {
   "cell_type": "code",
   "execution_count": 23,
   "id": "b5db1ba4",
   "metadata": {},
   "outputs": [
    {
     "data": {
      "text/html": [
       "<div>\n",
       "<style scoped>\n",
       "    .dataframe tbody tr th:only-of-type {\n",
       "        vertical-align: middle;\n",
       "    }\n",
       "\n",
       "    .dataframe tbody tr th {\n",
       "        vertical-align: top;\n",
       "    }\n",
       "\n",
       "    .dataframe thead th {\n",
       "        text-align: right;\n",
       "    }\n",
       "</style>\n",
       "<table border=\"1\" class=\"dataframe\">\n",
       "  <thead>\n",
       "    <tr style=\"text-align: right;\">\n",
       "      <th></th>\n",
       "      <th>Country Name</th>\n",
       "      <th>Regional Indicator</th>\n",
       "      <th>Year</th>\n",
       "      <th>Life Ladder</th>\n",
       "      <th>Log GDP Per Capita</th>\n",
       "      <th>Social Support</th>\n",
       "      <th>Healthy Life Expectancy At Birth</th>\n",
       "      <th>Freedom To Make Life Choices</th>\n",
       "      <th>Generosity</th>\n",
       "      <th>Perceptions Of Corruption</th>\n",
       "      <th>Positive Affect</th>\n",
       "      <th>Negative Affect</th>\n",
       "      <th>Confidence In National Government</th>\n",
       "    </tr>\n",
       "  </thead>\n",
       "  <tbody>\n",
       "    <tr>\n",
       "      <th>1980</th>\n",
       "      <td>Turkiye</td>\n",
       "      <td>NaN</td>\n",
       "      <td>2005</td>\n",
       "      <td>4.718734</td>\n",
       "      <td>9.800281</td>\n",
       "      <td>0.819936</td>\n",
       "      <td>66.099998</td>\n",
       "      <td>0.623115</td>\n",
       "      <td>NaN</td>\n",
       "      <td>0.876999</td>\n",
       "      <td>0.478680</td>\n",
       "      <td>NaN</td>\n",
       "      <td>NaN</td>\n",
       "    </tr>\n",
       "    <tr>\n",
       "      <th>1981</th>\n",
       "      <td>Turkiye</td>\n",
       "      <td>NaN</td>\n",
       "      <td>2007</td>\n",
       "      <td>5.623472</td>\n",
       "      <td>9.891305</td>\n",
       "      <td>0.792273</td>\n",
       "      <td>66.419998</td>\n",
       "      <td>0.459312</td>\n",
       "      <td>-0.180983</td>\n",
       "      <td>0.799733</td>\n",
       "      <td>0.592484</td>\n",
       "      <td>0.395127</td>\n",
       "      <td>NaN</td>\n",
       "    </tr>\n",
       "    <tr>\n",
       "      <th>1982</th>\n",
       "      <td>Turkiye</td>\n",
       "      <td>NaN</td>\n",
       "      <td>2008</td>\n",
       "      <td>5.118232</td>\n",
       "      <td>9.887406</td>\n",
       "      <td>0.644874</td>\n",
       "      <td>66.580002</td>\n",
       "      <td>0.415498</td>\n",
       "      <td>-0.191524</td>\n",
       "      <td>0.785391</td>\n",
       "      <td>0.510494</td>\n",
       "      <td>0.345338</td>\n",
       "      <td>NaN</td>\n",
       "    </tr>\n",
       "    <tr>\n",
       "      <th>1983</th>\n",
       "      <td>Turkiye</td>\n",
       "      <td>NaN</td>\n",
       "      <td>2009</td>\n",
       "      <td>5.212842</td>\n",
       "      <td>9.825364</td>\n",
       "      <td>0.754646</td>\n",
       "      <td>66.739998</td>\n",
       "      <td>0.455817</td>\n",
       "      <td>-0.229695</td>\n",
       "      <td>0.852887</td>\n",
       "      <td>0.454365</td>\n",
       "      <td>0.316302</td>\n",
       "      <td>NaN</td>\n",
       "    </tr>\n",
       "    <tr>\n",
       "      <th>1984</th>\n",
       "      <td>Turkiye</td>\n",
       "      <td>NaN</td>\n",
       "      <td>2010</td>\n",
       "      <td>5.490347</td>\n",
       "      <td>9.892936</td>\n",
       "      <td>0.794905</td>\n",
       "      <td>66.900002</td>\n",
       "      <td>0.514920</td>\n",
       "      <td>-0.189836</td>\n",
       "      <td>0.810896</td>\n",
       "      <td>0.532230</td>\n",
       "      <td>0.327066</td>\n",
       "      <td>NaN</td>\n",
       "    </tr>\n",
       "    <tr>\n",
       "      <th>1985</th>\n",
       "      <td>Turkiye</td>\n",
       "      <td>NaN</td>\n",
       "      <td>2011</td>\n",
       "      <td>5.271944</td>\n",
       "      <td>9.985817</td>\n",
       "      <td>0.691902</td>\n",
       "      <td>67.059998</td>\n",
       "      <td>0.445607</td>\n",
       "      <td>-0.244793</td>\n",
       "      <td>0.648596</td>\n",
       "      <td>0.512298</td>\n",
       "      <td>0.379784</td>\n",
       "      <td>NaN</td>\n",
       "    </tr>\n",
       "    <tr>\n",
       "      <th>1986</th>\n",
       "      <td>Turkiye</td>\n",
       "      <td>NaN</td>\n",
       "      <td>2012</td>\n",
       "      <td>5.309076</td>\n",
       "      <td>10.017822</td>\n",
       "      <td>0.739281</td>\n",
       "      <td>67.220001</td>\n",
       "      <td>0.470903</td>\n",
       "      <td>-0.218662</td>\n",
       "      <td>0.701850</td>\n",
       "      <td>0.506106</td>\n",
       "      <td>0.334833</td>\n",
       "      <td>NaN</td>\n",
       "    </tr>\n",
       "    <tr>\n",
       "      <th>1987</th>\n",
       "      <td>Turkiye</td>\n",
       "      <td>NaN</td>\n",
       "      <td>2013</td>\n",
       "      <td>4.888177</td>\n",
       "      <td>10.082167</td>\n",
       "      <td>0.795451</td>\n",
       "      <td>67.379997</td>\n",
       "      <td>0.540723</td>\n",
       "      <td>-0.232435</td>\n",
       "      <td>0.698065</td>\n",
       "      <td>0.551321</td>\n",
       "      <td>0.391874</td>\n",
       "      <td>NaN</td>\n",
       "    </tr>\n",
       "    <tr>\n",
       "      <th>1988</th>\n",
       "      <td>Turkiye</td>\n",
       "      <td>NaN</td>\n",
       "      <td>2014</td>\n",
       "      <td>5.579794</td>\n",
       "      <td>10.110523</td>\n",
       "      <td>0.863288</td>\n",
       "      <td>67.540001</td>\n",
       "      <td>0.649196</td>\n",
       "      <td>-0.026466</td>\n",
       "      <td>0.764014</td>\n",
       "      <td>0.409513</td>\n",
       "      <td>0.377325</td>\n",
       "      <td>NaN</td>\n",
       "    </tr>\n",
       "    <tr>\n",
       "      <th>1989</th>\n",
       "      <td>Turkiye</td>\n",
       "      <td>NaN</td>\n",
       "      <td>2015</td>\n",
       "      <td>5.514465</td>\n",
       "      <td>10.150139</td>\n",
       "      <td>0.851225</td>\n",
       "      <td>67.699997</td>\n",
       "      <td>0.653197</td>\n",
       "      <td>-0.018883</td>\n",
       "      <td>0.806076</td>\n",
       "      <td>0.390979</td>\n",
       "      <td>0.382291</td>\n",
       "      <td>NaN</td>\n",
       "    </tr>\n",
       "    <tr>\n",
       "      <th>1990</th>\n",
       "      <td>Turkiye</td>\n",
       "      <td>NaN</td>\n",
       "      <td>2016</td>\n",
       "      <td>5.326222</td>\n",
       "      <td>10.165735</td>\n",
       "      <td>0.879995</td>\n",
       "      <td>67.875000</td>\n",
       "      <td>0.644147</td>\n",
       "      <td>-0.067680</td>\n",
       "      <td>0.763707</td>\n",
       "      <td>0.413587</td>\n",
       "      <td>0.389963</td>\n",
       "      <td>NaN</td>\n",
       "    </tr>\n",
       "    <tr>\n",
       "      <th>1991</th>\n",
       "      <td>Turkiye</td>\n",
       "      <td>NaN</td>\n",
       "      <td>2017</td>\n",
       "      <td>5.607262</td>\n",
       "      <td>10.224949</td>\n",
       "      <td>0.876468</td>\n",
       "      <td>68.050003</td>\n",
       "      <td>0.644434</td>\n",
       "      <td>-0.240131</td>\n",
       "      <td>0.670911</td>\n",
       "      <td>0.393167</td>\n",
       "      <td>0.312846</td>\n",
       "      <td>NaN</td>\n",
       "    </tr>\n",
       "    <tr>\n",
       "      <th>1992</th>\n",
       "      <td>Turkiye</td>\n",
       "      <td>NaN</td>\n",
       "      <td>2018</td>\n",
       "      <td>5.185689</td>\n",
       "      <td>10.245586</td>\n",
       "      <td>0.847027</td>\n",
       "      <td>68.224998</td>\n",
       "      <td>0.528629</td>\n",
       "      <td>-0.179062</td>\n",
       "      <td>0.804879</td>\n",
       "      <td>0.379292</td>\n",
       "      <td>0.350773</td>\n",
       "      <td>NaN</td>\n",
       "    </tr>\n",
       "    <tr>\n",
       "      <th>1993</th>\n",
       "      <td>Turkiye</td>\n",
       "      <td>NaN</td>\n",
       "      <td>2019</td>\n",
       "      <td>4.872074</td>\n",
       "      <td>10.245305</td>\n",
       "      <td>0.791656</td>\n",
       "      <td>68.400002</td>\n",
       "      <td>0.631084</td>\n",
       "      <td>-0.139380</td>\n",
       "      <td>0.760442</td>\n",
       "      <td>0.347481</td>\n",
       "      <td>0.368089</td>\n",
       "      <td>NaN</td>\n",
       "    </tr>\n",
       "    <tr>\n",
       "      <th>1994</th>\n",
       "      <td>Turkiye</td>\n",
       "      <td>NaN</td>\n",
       "      <td>2020</td>\n",
       "      <td>4.861554</td>\n",
       "      <td>10.256719</td>\n",
       "      <td>0.856730</td>\n",
       "      <td>68.574997</td>\n",
       "      <td>0.510386</td>\n",
       "      <td>-0.117426</td>\n",
       "      <td>0.774417</td>\n",
       "      <td>0.331563</td>\n",
       "      <td>0.440387</td>\n",
       "      <td>NaN</td>\n",
       "    </tr>\n",
       "    <tr>\n",
       "      <th>1995</th>\n",
       "      <td>Turkiye</td>\n",
       "      <td>NaN</td>\n",
       "      <td>2021</td>\n",
       "      <td>4.366640</td>\n",
       "      <td>10.356681</td>\n",
       "      <td>0.736195</td>\n",
       "      <td>68.750000</td>\n",
       "      <td>0.446528</td>\n",
       "      <td>-0.036791</td>\n",
       "      <td>0.810166</td>\n",
       "      <td>0.297092</td>\n",
       "      <td>0.470579</td>\n",
       "      <td>NaN</td>\n",
       "    </tr>\n",
       "  </tbody>\n",
       "</table>\n",
       "</div>"
      ],
      "text/plain": [
       "     Country Name Regional Indicator  Year  Life Ladder  Log GDP Per Capita  \\\n",
       "1980      Turkiye                NaN  2005     4.718734            9.800281   \n",
       "1981      Turkiye                NaN  2007     5.623472            9.891305   \n",
       "1982      Turkiye                NaN  2008     5.118232            9.887406   \n",
       "1983      Turkiye                NaN  2009     5.212842            9.825364   \n",
       "1984      Turkiye                NaN  2010     5.490347            9.892936   \n",
       "1985      Turkiye                NaN  2011     5.271944            9.985817   \n",
       "1986      Turkiye                NaN  2012     5.309076           10.017822   \n",
       "1987      Turkiye                NaN  2013     4.888177           10.082167   \n",
       "1988      Turkiye                NaN  2014     5.579794           10.110523   \n",
       "1989      Turkiye                NaN  2015     5.514465           10.150139   \n",
       "1990      Turkiye                NaN  2016     5.326222           10.165735   \n",
       "1991      Turkiye                NaN  2017     5.607262           10.224949   \n",
       "1992      Turkiye                NaN  2018     5.185689           10.245586   \n",
       "1993      Turkiye                NaN  2019     4.872074           10.245305   \n",
       "1994      Turkiye                NaN  2020     4.861554           10.256719   \n",
       "1995      Turkiye                NaN  2021     4.366640           10.356681   \n",
       "\n",
       "      Social Support  Healthy Life Expectancy At Birth  \\\n",
       "1980        0.819936                         66.099998   \n",
       "1981        0.792273                         66.419998   \n",
       "1982        0.644874                         66.580002   \n",
       "1983        0.754646                         66.739998   \n",
       "1984        0.794905                         66.900002   \n",
       "1985        0.691902                         67.059998   \n",
       "1986        0.739281                         67.220001   \n",
       "1987        0.795451                         67.379997   \n",
       "1988        0.863288                         67.540001   \n",
       "1989        0.851225                         67.699997   \n",
       "1990        0.879995                         67.875000   \n",
       "1991        0.876468                         68.050003   \n",
       "1992        0.847027                         68.224998   \n",
       "1993        0.791656                         68.400002   \n",
       "1994        0.856730                         68.574997   \n",
       "1995        0.736195                         68.750000   \n",
       "\n",
       "      Freedom To Make Life Choices  Generosity  Perceptions Of Corruption  \\\n",
       "1980                      0.623115         NaN                   0.876999   \n",
       "1981                      0.459312   -0.180983                   0.799733   \n",
       "1982                      0.415498   -0.191524                   0.785391   \n",
       "1983                      0.455817   -0.229695                   0.852887   \n",
       "1984                      0.514920   -0.189836                   0.810896   \n",
       "1985                      0.445607   -0.244793                   0.648596   \n",
       "1986                      0.470903   -0.218662                   0.701850   \n",
       "1987                      0.540723   -0.232435                   0.698065   \n",
       "1988                      0.649196   -0.026466                   0.764014   \n",
       "1989                      0.653197   -0.018883                   0.806076   \n",
       "1990                      0.644147   -0.067680                   0.763707   \n",
       "1991                      0.644434   -0.240131                   0.670911   \n",
       "1992                      0.528629   -0.179062                   0.804879   \n",
       "1993                      0.631084   -0.139380                   0.760442   \n",
       "1994                      0.510386   -0.117426                   0.774417   \n",
       "1995                      0.446528   -0.036791                   0.810166   \n",
       "\n",
       "      Positive Affect  Negative Affect  Confidence In National Government  \n",
       "1980         0.478680              NaN                                NaN  \n",
       "1981         0.592484         0.395127                                NaN  \n",
       "1982         0.510494         0.345338                                NaN  \n",
       "1983         0.454365         0.316302                                NaN  \n",
       "1984         0.532230         0.327066                                NaN  \n",
       "1985         0.512298         0.379784                                NaN  \n",
       "1986         0.506106         0.334833                                NaN  \n",
       "1987         0.551321         0.391874                                NaN  \n",
       "1988         0.409513         0.377325                                NaN  \n",
       "1989         0.390979         0.382291                                NaN  \n",
       "1990         0.413587         0.389963                                NaN  \n",
       "1991         0.393167         0.312846                                NaN  \n",
       "1992         0.379292         0.350773                                NaN  \n",
       "1993         0.347481         0.368089                                NaN  \n",
       "1994         0.331563         0.440387                                NaN  \n",
       "1995         0.297092         0.470579                                NaN  "
      ]
     },
     "execution_count": 23,
     "metadata": {},
     "output_type": "execute_result"
    }
   ],
   "source": [
    "turkiye = df.loc[df['Country Name'].str.lower() == 'turkiye']\n",
    "turkiye"
   ]
  },
  {
   "cell_type": "code",
   "execution_count": 6,
   "id": "3c3d4ced",
   "metadata": {},
   "outputs": [
    {
     "data": {
      "text/plain": [
       "array([0.63299233, 0.04358106, 0.15812638, 0.73432232, 0.27652605,\n",
       "       0.11263829, 0.9383311 , 0.28796317, 0.60931303, 0.87420846,\n",
       "       0.88847526, 0.94265847, 0.46845177, 0.44249036, 0.10576029,\n",
       "       0.3664319 , 0.45542008, 0.87885617, 0.06190364, 0.89128494,\n",
       "       0.61180104, 0.41276645, 0.10351048, 0.98105728, 0.12100272,\n",
       "       0.5781885 , 0.28918439, 0.58457192, 0.90011616, 0.43429021,\n",
       "       0.27200048, 0.59539464, 0.46214638, 0.29137563, 0.07056599,\n",
       "       0.60123386, 0.84792206, 0.14858309, 0.68537965, 0.747318  ,\n",
       "       0.62901186, 0.23492105, 0.05016953, 0.84996727, 0.36395698,\n",
       "       0.05559866, 0.62422726, 0.69773044, 0.5103582 , 0.65408364,\n",
       "       0.90125366, 0.89674336, 0.8338917 , 0.11368953, 0.3170114 ,\n",
       "       0.59518495, 0.55296141, 0.8138507 , 0.3401726 , 0.93237917,\n",
       "       0.81828953, 0.10765083, 0.10754371, 0.62603054, 0.55419555,\n",
       "       0.57594621, 0.88164541, 0.39183508, 0.30496837, 0.99898087,\n",
       "       0.22746551, 0.41292357, 0.91903785, 0.21304755, 0.12806104,\n",
       "       0.43905786, 0.57704393, 0.28661731, 0.02880768, 0.96079015,\n",
       "       0.11583628, 0.17662587, 0.91126599, 0.06376118, 0.95433193,\n",
       "       0.84273463, 0.93718373, 0.79851991, 0.63434597, 0.7576148 ,\n",
       "       0.04377828, 0.54009   , 0.19041097, 0.23544003, 0.5618266 ,\n",
       "       0.86210683, 0.03928168, 0.74188259, 0.43915225, 0.60580072])"
      ]
     },
     "execution_count": 6,
     "metadata": {},
     "output_type": "execute_result"
    }
   ],
   "source": [
    "import numpy as np\n",
    "np.random.rand(100)  # 10 tane 0-100 arası rastgele tam sayı üretir"
   ]
  },
  {
   "cell_type": "code",
   "execution_count": null,
   "id": "56fec62b",
   "metadata": {},
   "outputs": [],
   "source": []
  }
 ],
 "metadata": {
  "kernelspec": {
   "display_name": "Python 3",
   "language": "python",
   "name": "python3"
  },
  "language_info": {
   "codemirror_mode": {
    "name": "ipython",
    "version": 3
   },
   "file_extension": ".py",
   "mimetype": "text/x-python",
   "name": "python",
   "nbconvert_exporter": "python",
   "pygments_lexer": "ipython3",
   "version": "3.8.8"
  }
 },
 "nbformat": 4,
 "nbformat_minor": 5
}
