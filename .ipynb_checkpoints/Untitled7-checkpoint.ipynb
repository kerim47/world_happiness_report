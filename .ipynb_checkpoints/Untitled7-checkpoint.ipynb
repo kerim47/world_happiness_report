{
 "cells": [
  {
   "cell_type": "markdown",
   "id": "a1fc0856",
   "metadata": {},
   "source": [
    "## Abdulkerim Akan\n",
    "```\n",
    "import pandas as pd\n",
    "import numpy as np\n",
    "import matplotlib.pyplot as plt \n",
    "```\n",
    "* Abdulkerim ajan\n",
    "* Bu bir vurgulu kelimedir\n",
    "> Abdulkerim Akan blockquote yazıyor\n",
    "\n",
    "import pandas as pd\n",
    "`\n",
    "import numpy as \n",
    "`\n",
    "import numpy as np\n",
    "import matplotlib.pyplot as plt\n",
    "import seaborn as sns\n",
    "\n",
    "> Abdulkerim Akan blockquote yazıyor\n",
    ">> Abdulkerim Akan blockquote yazıyor"
   ]
  },
  {
   "cell_type": "code",
   "execution_count": 1,
   "id": "466c7cbe",
   "metadata": {},
   "outputs": [
    {
     "name": "stdout",
     "output_type": "stream",
     "text": [
      "Abdulkerim Akan\n"
     ]
    }
   ],
   "source": [
    "print(\"Abdulkerim Akan\")"
   ]
  },
  {
   "cell_type": "code",
   "execution_count": 6,
   "id": "7c128d51",
   "metadata": {},
   "outputs": [
    {
     "data": {
      "image/png": "[encoded data removed]",
      "text/plain": [
       "<Figure size 432x288 with 1 Axes>"
      ]
     },
     "metadata": {
      "needs_background": "light"
     },
     "output_type": "display_data"
    }
   ],
   "source": [
    "import pandas as pd\n",
    "import numpy as np\n",
    "import matplotlib.pyplot as plt\n",
    "import seaborn as sns\n",
    "\n",
    "# \"Tips\" veri setini yükleme\n",
    "tips = sns.load_dataset(\"tips\")\n",
    "\n",
    "# \"Barplot\" grafiğini oluşturma\n",
    "sns.barplot(x=\"day\", y=\"total_bill\", data=tips)\n",
    "\n",
    "# Grafiği gösterme\n",
    "plt.show()"
   ]
  }
 ],
 "metadata": {
  "kernelspec": {
   "display_name": "Python 3",
   "language": "python",
   "name": "python3"
  },
  "language_info": {
   "codemirror_mode": {
    "name": "ipython",
    "version": 3
   },
   "file_extension": ".py",
   "mimetype": "text/x-python",
   "name": "python",
   "nbconvert_exporter": "python",
   "pygments_lexer": "ipython3",
   "version": "3.8.8"
  }
 },
 "nbformat": 4,
 "nbformat_minor": 5
}
